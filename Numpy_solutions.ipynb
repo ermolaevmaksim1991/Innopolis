{
  "nbformat": 4,
  "nbformat_minor": 0,
  "metadata": {
    "colab": {
      "provenance": []
    },
    "kernelspec": {
      "name": "python3",
      "display_name": "Python 3"
    },
    "language_info": {
      "name": "python"
    }
  },
  "cells": [
    {
      "cell_type": "code",
      "execution_count": 1,
      "metadata": {
        "id": "FUyEpUsLH8Xv"
      },
      "outputs": [],
      "source": [
        "import numpy as np"
      ]
    },
    {
      "cell_type": "markdown",
      "source": [
        "#a.Импортируйте библиотеку NumPy"
      ],
      "metadata": {
        "id": "qsyiAWCuIZ21"
      }
    },
    {
      "cell_type": "code",
      "source": [
        "m1 = np.array([[0,0,0,0,0],\n",
        "         [0,0,0,0,0]])\n",
        "print(m1)"
      ],
      "metadata": {
        "colab": {
          "base_uri": "https://localhost:8080/"
        },
        "id": "RzGNT8M8IB8u",
        "outputId": "ccd1b38d-8a99-42dd-a86c-4c27a6c43d1f"
      },
      "execution_count": 2,
      "outputs": [
        {
          "output_type": "stream",
          "name": "stdout",
          "text": [
            "[[0 0 0 0 0]\n",
            " [0 0 0 0 0]]\n"
          ]
        }
      ]
    },
    {
      "cell_type": "code",
      "source": [
        "a=np.zeros(10)\n",
        "print(a)"
      ],
      "metadata": {
        "colab": {
          "base_uri": "https://localhost:8080/"
        },
        "id": "8HoXLa23IePk",
        "outputId": "6b2b4818-7d64-49c6-9c57-a8bd2f8c9397"
      },
      "execution_count": 3,
      "outputs": [
        {
          "output_type": "stream",
          "name": "stdout",
          "text": [
            "[0. 0. 0. 0. 0. 0. 0. 0. 0. 0.]\n"
          ]
        }
      ]
    },
    {
      "cell_type": "code",
      "source": [
        "a=np.zeros((5,2))\n",
        "print(a)"
      ],
      "metadata": {
        "colab": {
          "base_uri": "https://localhost:8080/"
        },
        "id": "29OzZBP6Io3p",
        "outputId": "78dc984a-4ed4-42f8-f384-73aa9d829c01"
      },
      "execution_count": 4,
      "outputs": [
        {
          "output_type": "stream",
          "name": "stdout",
          "text": [
            "[[0. 0.]\n",
            " [0. 0.]\n",
            " [0. 0.]\n",
            " [0. 0.]\n",
            " [0. 0.]]\n"
          ]
        }
      ]
    },
    {
      "cell_type": "markdown",
      "source": [
        "#b.Создайте массив из 10 нулей"
      ],
      "metadata": {
        "id": "DrZ5hBSEIx9j"
      }
    },
    {
      "cell_type": "code",
      "source": [
        "m2 = np.array([[1,1,1,1,1],\n",
        "         [1,1,1,1,1]])\n",
        "print(m2)"
      ],
      "metadata": {
        "colab": {
          "base_uri": "https://localhost:8080/"
        },
        "id": "axGN5DaYIzmq",
        "outputId": "c814719f-445c-4a62-80ab-0ee716367227"
      },
      "execution_count": 6,
      "outputs": [
        {
          "output_type": "stream",
          "name": "stdout",
          "text": [
            "[[1 1 1 1 1]\n",
            " [1 1 1 1 1]]\n"
          ]
        }
      ]
    },
    {
      "cell_type": "code",
      "source": [
        "a=np.ones(10)\n",
        "print(a)"
      ],
      "metadata": {
        "colab": {
          "base_uri": "https://localhost:8080/"
        },
        "id": "AzL-mVrqLzeA",
        "outputId": "0eee1975-da75-4353-8fc8-ec9e633b7172"
      },
      "execution_count": 8,
      "outputs": [
        {
          "output_type": "stream",
          "name": "stdout",
          "text": [
            "[1. 1. 1. 1. 1. 1. 1. 1. 1. 1.]\n"
          ]
        }
      ]
    },
    {
      "cell_type": "markdown",
      "source": [
        "#c.Создать массив из 10 единиц"
      ],
      "metadata": {
        "id": "PI4wNg58JJ_G"
      }
    },
    {
      "cell_type": "code",
      "source": [
        "m3 = np.array([[5,5,5,5,5],\n",
        "         [5,5,5,5,5]])\n",
        "print(m3)"
      ],
      "metadata": {
        "colab": {
          "base_uri": "https://localhost:8080/"
        },
        "id": "anPmAx98I-Za",
        "outputId": "2f64012f-4458-457b-e0c8-cfe27551ae86"
      },
      "execution_count": 7,
      "outputs": [
        {
          "output_type": "stream",
          "name": "stdout",
          "text": [
            "[[5 5 5 5 5]\n",
            " [5 5 5 5 5]]\n"
          ]
        }
      ]
    },
    {
      "cell_type": "markdown",
      "source": [
        "#d.Создать массив из 10 пятерок"
      ],
      "metadata": {
        "id": "KzLzm19fLke4"
      }
    },
    {
      "cell_type": "code",
      "source": [
        "for m5 in range (10,51):\n",
        " print(m5)"
      ],
      "metadata": {
        "colab": {
          "base_uri": "https://localhost:8080/"
        },
        "id": "5u_uudOKLtF9",
        "outputId": "00a16baf-9897-43cc-ca5e-76719c8af915"
      },
      "execution_count": 10,
      "outputs": [
        {
          "output_type": "stream",
          "name": "stdout",
          "text": [
            "10\n",
            "11\n",
            "12\n",
            "13\n",
            "14\n",
            "15\n",
            "16\n",
            "17\n",
            "18\n",
            "19\n",
            "20\n",
            "21\n",
            "22\n",
            "23\n",
            "24\n",
            "25\n",
            "26\n",
            "27\n",
            "28\n",
            "29\n",
            "30\n",
            "31\n",
            "32\n",
            "33\n",
            "34\n",
            "35\n",
            "36\n",
            "37\n",
            "38\n",
            "39\n",
            "40\n",
            "41\n",
            "42\n",
            "43\n",
            "44\n",
            "45\n",
            "46\n",
            "47\n",
            "48\n",
            "49\n",
            "50\n"
          ]
        }
      ]
    },
    {
      "cell_type": "code",
      "source": [
        "for m5 in reversed(range(10,51)):\n",
        " print(m5)"
      ],
      "metadata": {
        "colab": {
          "base_uri": "https://localhost:8080/"
        },
        "id": "g41PKGvbMpaS",
        "outputId": "a9d5808a-20c6-4292-c49a-4ddaa3cdfe78"
      },
      "execution_count": 11,
      "outputs": [
        {
          "output_type": "stream",
          "name": "stdout",
          "text": [
            "50\n",
            "49\n",
            "48\n",
            "47\n",
            "46\n",
            "45\n",
            "44\n",
            "43\n",
            "42\n",
            "41\n",
            "40\n",
            "39\n",
            "38\n",
            "37\n",
            "36\n",
            "35\n",
            "34\n",
            "33\n",
            "32\n",
            "31\n",
            "30\n",
            "29\n",
            "28\n",
            "27\n",
            "26\n",
            "25\n",
            "24\n",
            "23\n",
            "22\n",
            "21\n",
            "20\n",
            "19\n",
            "18\n",
            "17\n",
            "16\n",
            "15\n",
            "14\n",
            "13\n",
            "12\n",
            "11\n",
            "10\n"
          ]
        }
      ]
    },
    {
      "cell_type": "markdown",
      "source": [
        "#e.Создать массив из целых чисел от 10 до 50"
      ],
      "metadata": {
        "id": "vR8dLzvfMBJ8"
      }
    },
    {
      "cell_type": "code",
      "source": [
        "m8=np.arange(10,52,2)\n",
        "print(m8)"
      ],
      "metadata": {
        "colab": {
          "base_uri": "https://localhost:8080/"
        },
        "id": "NrdtPKdkMhzm",
        "outputId": "cebd1fe6-ffb2-475c-bb42-0652be8e39e1"
      },
      "execution_count": 12,
      "outputs": [
        {
          "output_type": "stream",
          "name": "stdout",
          "text": [
            "[10 12 14 16 18 20 22 24 26 28 30 32 34 36 38 40 42 44 46 48 50]\n"
          ]
        }
      ]
    },
    {
      "cell_type": "markdown",
      "source": [
        "#f. Создать массив из четных чисел от 10 до 50"
      ],
      "metadata": {
        "id": "fh3TIZ9bMefe"
      }
    },
    {
      "cell_type": "code",
      "source": [
        "m9=np.arange(0,9).reshape(3,3)\n",
        "print(m9)"
      ],
      "metadata": {
        "colab": {
          "base_uri": "https://localhost:8080/"
        },
        "id": "seQIV-VNNAX3",
        "outputId": "546f7079-dff6-4caf-dcc1-b5c78229b37f"
      },
      "execution_count": 13,
      "outputs": [
        {
          "output_type": "stream",
          "name": "stdout",
          "text": [
            "[[0 1 2]\n",
            " [3 4 5]\n",
            " [6 7 8]]\n"
          ]
        }
      ]
    },
    {
      "cell_type": "markdown",
      "source": [
        "#g.Создать матрицу 3х3 с числами от 0 до 8"
      ],
      "metadata": {
        "id": "n91V9_VkNEfs"
      }
    },
    {
      "cell_type": "code",
      "source": [
        "m10=np.ones(9). reshape(3,3)\n",
        "print(m10)"
      ],
      "metadata": {
        "colab": {
          "base_uri": "https://localhost:8080/"
        },
        "id": "Y2QO_GGtNC7H",
        "outputId": "74d76b1a-bb6a-4a42-989c-9ca1875d534f"
      },
      "execution_count": 14,
      "outputs": [
        {
          "output_type": "stream",
          "name": "stdout",
          "text": [
            "[[1. 1. 1.]\n",
            " [1. 1. 1.]\n",
            " [1. 1. 1.]]\n"
          ]
        }
      ]
    },
    {
      "cell_type": "markdown",
      "source": [
        "#h.Создать единичную матрицу 3x3"
      ],
      "metadata": {
        "id": "dF3d_uenNbDP"
      }
    },
    {
      "cell_type": "code",
      "source": [
        "x1=np.random.randint(2)\n",
        "print(x1)"
      ],
      "metadata": {
        "colab": {
          "base_uri": "https://localhost:8080/"
        },
        "id": "S7zEWZCvNuef",
        "outputId": "697e9079-2f29-4874-a6db-585b24364d7b"
      },
      "execution_count": 18,
      "outputs": [
        {
          "output_type": "stream",
          "name": "stdout",
          "text": [
            "0\n"
          ]
        }
      ]
    },
    {
      "cell_type": "markdown",
      "source": [
        "#i.Используйте NumPy для генерации случайного числа от 0 до 1"
      ],
      "metadata": {
        "id": "m5n0lUBWNhkA"
      }
    },
    {
      "cell_type": "code",
      "source": [
        "x= np.random.normal(0,1,25)\n",
        "print(x)"
      ],
      "metadata": {
        "colab": {
          "base_uri": "https://localhost:8080/"
        },
        "id": "ru45SElmN9OD",
        "outputId": "70d539b0-1334-46b9-f69e-ed6f48296454"
      },
      "execution_count": 19,
      "outputs": [
        {
          "output_type": "stream",
          "name": "stdout",
          "text": [
            "[ 0.7296988   2.78172093 -1.43420859  0.70194071  0.02321741  0.75429963\n",
            "  0.18709041 -0.0426019   0.17200641  1.37149793  0.34150196  1.28906364\n",
            " -0.97542658  1.29205961  1.15072834 -0.39563214 -0.49308702  2.40986964\n",
            "  0.72557102 -1.1817827   0.45333429  1.39800022  0.4005969   0.35599518\n",
            "  2.05289708]\n"
          ]
        }
      ]
    },
    {
      "cell_type": "markdown",
      "source": [
        "\n",
        "#j.Используйте NumPy для генерации массива из 25 случайных чисел,взятых из стандартного нормального распределения"
      ],
      "metadata": {
        "id": "JiB0r1DdN9l0"
      }
    },
    {
      "cell_type": "code",
      "source": [
        " m7 = np.linspace (0,1,101)\n",
        "print(m7)"
      ],
      "metadata": {
        "colab": {
          "base_uri": "https://localhost:8080/"
        },
        "id": "KQ_0SABUOM--",
        "outputId": "e3929ce0-e4e4-4c65-d85c-46dfbb0290ff"
      },
      "execution_count": 29,
      "outputs": [
        {
          "output_type": "stream",
          "name": "stdout",
          "text": [
            "[0.   0.01 0.02 0.03 0.04 0.05 0.06 0.07 0.08 0.09 0.1  0.11 0.12 0.13\n",
            " 0.14 0.15 0.16 0.17 0.18 0.19 0.2  0.21 0.22 0.23 0.24 0.25 0.26 0.27\n",
            " 0.28 0.29 0.3  0.31 0.32 0.33 0.34 0.35 0.36 0.37 0.38 0.39 0.4  0.41\n",
            " 0.42 0.43 0.44 0.45 0.46 0.47 0.48 0.49 0.5  0.51 0.52 0.53 0.54 0.55\n",
            " 0.56 0.57 0.58 0.59 0.6  0.61 0.62 0.63 0.64 0.65 0.66 0.67 0.68 0.69\n",
            " 0.7  0.71 0.72 0.73 0.74 0.75 0.76 0.77 0.78 0.79 0.8  0.81 0.82 0.83\n",
            " 0.84 0.85 0.86 0.87 0.88 0.89 0.9  0.91 0.92 0.93 0.94 0.95 0.96 0.97\n",
            " 0.98 0.99 1.  ]\n"
          ]
        }
      ]
    },
    {
      "cell_type": "markdown",
      "source": [
        "m15=np.arange(0.01,1.01,0.01), reshape(10,10)\n",
        "print(m15)"
      ],
      "metadata": {
        "id": "Q6HMzvM8PoZT"
      }
    },
    {
      "cell_type": "code",
      "source": [
        "mat=np.arange(0.01,1.01,0.01).reshape(10,10)\n",
        "print(mat)"
      ],
      "metadata": {
        "colab": {
          "base_uri": "https://localhost:8080/"
        },
        "id": "fWDQlwgtQKX7",
        "outputId": "0a47e437-ee91-4b3e-e340-8ce7c6af62ae"
      },
      "execution_count": 25,
      "outputs": [
        {
          "output_type": "stream",
          "name": "stdout",
          "text": [
            "[[0.01 0.02 0.03 0.04 0.05 0.06 0.07 0.08 0.09 0.1 ]\n",
            " [0.11 0.12 0.13 0.14 0.15 0.16 0.17 0.18 0.19 0.2 ]\n",
            " [0.21 0.22 0.23 0.24 0.25 0.26 0.27 0.28 0.29 0.3 ]\n",
            " [0.31 0.32 0.33 0.34 0.35 0.36 0.37 0.38 0.39 0.4 ]\n",
            " [0.41 0.42 0.43 0.44 0.45 0.46 0.47 0.48 0.49 0.5 ]\n",
            " [0.51 0.52 0.53 0.54 0.55 0.56 0.57 0.58 0.59 0.6 ]\n",
            " [0.61 0.62 0.63 0.64 0.65 0.66 0.67 0.68 0.69 0.7 ]\n",
            " [0.71 0.72 0.73 0.74 0.75 0.76 0.77 0.78 0.79 0.8 ]\n",
            " [0.81 0.82 0.83 0.84 0.85 0.86 0.87 0.88 0.89 0.9 ]\n",
            " [0.91 0.92 0.93 0.94 0.95 0.96 0.97 0.98 0.99 1.  ]]\n"
          ]
        }
      ]
    },
    {
      "cell_type": "markdown",
      "source": [
        "#k.Создайте следующую матрицу используя функции библиотеки NumPy"
      ],
      "metadata": {
        "id": "V_r70buYONRY"
      }
    },
    {
      "cell_type": "code",
      "source": [
        "mat = np.arange(1,26).reshape(5,5)\n",
        "print(mat)"
      ],
      "metadata": {
        "colab": {
          "base_uri": "https://localhost:8080/"
        },
        "id": "hz_kApDgRKGe",
        "outputId": "0ec8bbe9-954c-4f3f-b0b8-c637d980fa76"
      },
      "execution_count": 30,
      "outputs": [
        {
          "output_type": "stream",
          "name": "stdout",
          "text": [
            "[[ 1  2  3  4  5]\n",
            " [ 6  7  8  9 10]\n",
            " [11 12 13 14 15]\n",
            " [16 17 18 19 20]\n",
            " [21 22 23 24 25]]\n"
          ]
        }
      ]
    },
    {
      "cell_type": "markdown",
      "source": [
        "# l.Дана стартовая матрица (обязательно запустите код ниже в вашемрешении!). Эта матрица будет использоваться в последующих задачах"
      ],
      "metadata": {
        "id": "3EW9aye5RMCx"
      }
    },
    {
      "cell_type": "code",
      "source": [
        "print('array',mat[2:,1:])"
      ],
      "metadata": {
        "colab": {
          "base_uri": "https://localhost:8080/"
        },
        "id": "KM6Ojog1RbiV",
        "outputId": "ea9d1602-02b3-4037-c99b-157f4859dbcf"
      },
      "execution_count": 32,
      "outputs": [
        {
          "output_type": "stream",
          "name": "stdout",
          "text": [
            "array [[12 13 14 15]\n",
            " [17 18 19 20]\n",
            " [22 23 24 25]]\n"
          ]
        }
      ]
    },
    {
      "cell_type": "markdown",
      "source": [
        "Необходимо написать код который вернет следующую матрицуиз стартовой:"
      ],
      "metadata": {
        "id": "XHDr2qiKRqwc"
      }
    },
    {
      "cell_type": "code",
      "source": [
        "r=mat[mat==20]\n",
        "print(r)"
      ],
      "metadata": {
        "colab": {
          "base_uri": "https://localhost:8080/"
        },
        "id": "fqr85_ChR1pq",
        "outputId": "7526e6f1-7c50-44e2-ffe3-8a60be45322e"
      },
      "execution_count": 33,
      "outputs": [
        {
          "output_type": "stream",
          "name": "stdout",
          "text": [
            "[20]\n"
          ]
        }
      ]
    },
    {
      "cell_type": "markdown",
      "source": [
        "#m.Написать код обращения к элементу который вернет значение  20 изстартовой матрицы задачи l"
      ],
      "metadata": {
        "id": "9DKYn7g7SL_6"
      }
    },
    {
      "cell_type": "code",
      "source": [
        "print('array', mat[0:3,1]. reshape(3,1))"
      ],
      "metadata": {
        "colab": {
          "base_uri": "https://localhost:8080/"
        },
        "id": "tgXtuYNjSd0V",
        "outputId": "843fcc9a-6a95-4a0c-835b-ac7841fa8579"
      },
      "execution_count": 37,
      "outputs": [
        {
          "output_type": "stream",
          "name": "stdout",
          "text": [
            "array [[ 2]\n",
            " [ 7]\n",
            " [12]]\n"
          ]
        }
      ]
    },
    {
      "cell_type": "markdown",
      "source": [
        "#n.Написать код к стартовой матрице задачи l , который воспроизводитвывод, показанный ниже"
      ],
      "metadata": {
        "id": "dEF7_oI1TbQz"
      }
    },
    {
      "cell_type": "code",
      "source": [
        "print('array', mat[4:])"
      ],
      "metadata": {
        "colab": {
          "base_uri": "https://localhost:8080/"
        },
        "id": "gRZUcKxHTm7A",
        "outputId": "c063af51-1396-41ec-c283-9de6c25225f7"
      },
      "execution_count": 38,
      "outputs": [
        {
          "output_type": "stream",
          "name": "stdout",
          "text": [
            "array [[21 22 23 24 25]]\n"
          ]
        }
      ]
    },
    {
      "cell_type": "markdown",
      "source": [
        "#o.Написать код к стартовой матрице задачи l , который воспроизводитвывод, показанный ниже"
      ],
      "metadata": {
        "id": "6ws_LFlETnSc"
      }
    },
    {
      "cell_type": "code",
      "source": [
        "print('f=', mat[3:])"
      ],
      "metadata": {
        "colab": {
          "base_uri": "https://localhost:8080/"
        },
        "id": "NupHk2XZT_dM",
        "outputId": "07f35d06-64a0-459d-bba5-0d0f0621001e"
      },
      "execution_count": 39,
      "outputs": [
        {
          "output_type": "stream",
          "name": "stdout",
          "text": [
            "f= [[16 17 18 19 20]\n",
            " [21 22 23 24 25]]\n"
          ]
        }
      ]
    },
    {
      "cell_type": "markdown",
      "source": [
        "#p.Написать код к стартовой матрице задачи l , который воспроизводитвывод, показанный ниже"
      ],
      "metadata": {
        "id": "cJnXGia_SedJ"
      }
    },
    {
      "cell_type": "code",
      "source": [
        "print(mat.sum())"
      ],
      "metadata": {
        "colab": {
          "base_uri": "https://localhost:8080/"
        },
        "id": "7ZtT7nofUYCD",
        "outputId": "557a727a-f4e0-471b-a399-a7962e17c544"
      },
      "execution_count": 40,
      "outputs": [
        {
          "output_type": "stream",
          "name": "stdout",
          "text": [
            "325\n"
          ]
        }
      ]
    },
    {
      "cell_type": "markdown",
      "source": [
        "#q.Получить сумму всех значений в стартовой матрице mat"
      ],
      "metadata": {
        "id": "m7vydld2UY3g"
      }
    },
    {
      "cell_type": "code",
      "source": [
        "print(mat.std())"
      ],
      "metadata": {
        "colab": {
          "base_uri": "https://localhost:8080/"
        },
        "id": "CfyrZGpPUwPE",
        "outputId": "4d359e4e-2bca-4f74-ae1e-1973fde51948"
      },
      "execution_count": 41,
      "outputs": [
        {
          "output_type": "stream",
          "name": "stdout",
          "text": [
            "7.211102550927978\n"
          ]
        }
      ]
    },
    {
      "cell_type": "markdown",
      "source": [
        "# r.Получить стандартное отклонение в стартовой матрице mat"
      ],
      "metadata": {
        "id": "oc8sQ_G1UweX"
      }
    },
    {
      "cell_type": "code",
      "source": [
        "print(mat.sum(axis=0))"
      ],
      "metadata": {
        "colab": {
          "base_uri": "https://localhost:8080/"
        },
        "id": "SJkuJx4DVGSy",
        "outputId": "56e5e3bf-d8b9-494f-b2fb-5ae45bc3836a"
      },
      "execution_count": 42,
      "outputs": [
        {
          "output_type": "stream",
          "name": "stdout",
          "text": [
            "[55 60 65 70 75]\n"
          ]
        }
      ]
    },
    {
      "cell_type": "markdown",
      "source": [
        "# s.Получить сумму значений в колонках в стартовой матрице mat"
      ],
      "metadata": {
        "id": "YwAc9Ki7VGe6"
      }
    }
  ]
}